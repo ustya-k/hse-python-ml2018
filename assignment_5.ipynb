{
  "nbformat": 4,
  "nbformat_minor": 0,
  "metadata": {
    "colab": {
      "name": "Copy of Copy of assignment_5.ipynb",
      "version": "0.3.2",
      "provenance": [],
      "collapsed_sections": []
    },
    "kernelspec": {
      "name": "python3",
      "display_name": "Python 3"
    },
    "accelerator": "GPU"
  },
  "cells": [
    {
      "metadata": {
        "id": "b87c8m6_L-Dx",
        "colab_type": "text"
      },
      "cell_type": "markdown",
      "source": [
        "# Assignment 5\n",
        "\n",
        "Explore embeddings and CNN\n",
        "\n",
        "Using tweeter dataset ( https://www.kaggle.com/utathya/sentiment-analysis-of-imdb-reviews/data) and already existing splitting on train/test sets, develop a model for sentiment analysis.  \n",
        "Your quality metric is crossentropy (`sklearn.metrics.log_loss`, `torch.nn.CrossEntropy`)  \n",
        "\n",
        "Your model should be based on CNN and written in pytorch `torch.nn.Conv1d`.\n",
        "\n",
        "Explore 3 ways, which of them has better perfomance on test set?:\n",
        "1. Using pretrained word embeddings with frozen weights. `torch.nn.Embedding.from_pretrained(embed_matrix, frozen=True)`.\n",
        "You can download any pretrained embeddings you like.\n",
        "2. Train embeddings yourself, initializing from pretrained weights. `torch.nn.Embedding.from_pretrained(embed_matrix, frozen=False)`\n",
        "3. Train embeddings yourself with random initialization `torch.nn.init.uniform_(nn.Embeddings.weights)`\n",
        "\n",
        "Experiment with model arhitecture (as bonus):\n",
        "1. activation functions RELU, ELU, etc `torch.nn.functional.relu, torch.nn.functional.elu`  \n",
        "1. Stack layers\n",
        "1. max or average pooling (`torch.nn.functional.max_pool1d, torch.nn.functional.avg_pool1d`)\n",
        "1. Dropout\n",
        "\n",
        "\n",
        "Other requirements:\n",
        "1. Your training routine should use any learning scheduler (torch.nn.optim.lr_scheduler).  \n",
        "Plot current learning rate against number of epochs, e.g. `tt.optim.Adam.param_groups[0]['lr']`.  \n",
        "\n",
        "1. Your training routine should use early stopping on validation dataset\n",
        "Use hold out validation scheme in your experiments.\n",
        "\n",
        "1. You should use torchtext for parsing \n",
        "\n",
        "**Note**:\n",
        "This assignment has no baseline. Instead, **validation curves** for explored architectures are expected.  \n",
        "Validation curve is plot of model test score against model hyperparameter value.  \n",
        "example (https://scikit-learn.org/stable/auto_examples/model_selection/plot_validation_curve.html) . \n",
        "Though, using `sklearn.model_selection.validation_curve` is not necessary.  \n",
        "\n",
        "\n",
        "\n",
        "\n"
      ]
    },
    {
      "metadata": {
        "id": "GSwktYuEL-Dz",
        "colab_type": "code",
        "colab": {}
      },
      "cell_type": "code",
      "source": [
        "import pandas as pd\n",
        "import numpy as np\n",
        "from sklearn.externals import joblib\n",
        "import nltk\n",
        "import gensim\n",
        "import spacy\n",
        "\n",
        "from sklearn import metrics\n",
        "\n",
        "import torch as tt\n",
        "import torch.nn as nn\n",
        "import torch.nn.functional as F\n",
        "import torch.optim as optim\n",
        "\n",
        "from torchtext.data import Field, LabelField, BucketIterator, TabularDataset, Iterator, Dataset\n",
        "\n",
        "\n",
        "\n",
        "SEED = 42\n",
        "np.random.seed(SEED)"
      ],
      "execution_count": 0,
      "outputs": []
    },
    {
      "metadata": {
        "id": "FainfdbaL-D7",
        "colab_type": "code",
        "colab": {}
      },
      "cell_type": "code",
      "source": [
        "import spacy\n",
        "\n",
        "\n",
        "spacy_en = spacy.load('en')\n",
        "\n",
        "def tokenizer(text): # create a tokenizer function\n",
        "    return [tok.text for tok in spacy_en.tokenizer(text) if tok.text.isalpha()]"
      ],
      "execution_count": 0,
      "outputs": []
    },
    {
      "metadata": {
        "id": "t23SRSVWL-EJ",
        "colab_type": "code",
        "colab": {}
      },
      "cell_type": "code",
      "source": [
        "classes={\n",
        "    'neg':0,\n",
        "    'unsup':1,\n",
        "    'pos':2\n",
        "}\n",
        "\n",
        "TEXT = Field(include_lengths=True, batch_first=True, \n",
        "             tokenize=tokenizer,\n",
        "             eos_token='<eos>',\n",
        "             lower=True,\n",
        "             stop_words=nltk.corpus.stopwords.words('english'))\n",
        "LABEL = LabelField(dtype=tt.int64, use_vocab=True, preprocessing=lambda x: classes[x])"
      ],
      "execution_count": 0,
      "outputs": []
    },
    {
      "metadata": {
        "id": "e1Q3oZdGL-EM",
        "colab_type": "code",
        "colab": {}
      },
      "cell_type": "code",
      "source": [
        "dataset = TabularDataset('imdb_master.csv', format='csv', \n",
        "                         fields=[(None, None),('type', TEXT),('review', TEXT),('label', LABEL),(None, None)], \n",
        "                         skip_header=True)"
      ],
      "execution_count": 0,
      "outputs": []
    },
    {
      "metadata": {
        "id": "UChC6UTBL-EV",
        "colab_type": "code",
        "colab": {
          "base_uri": "https://localhost:8080/",
          "height": 71
        },
        "outputId": "2d7300c4-fe20-4b66-8ff8-0e331f4e497e"
      },
      "cell_type": "code",
      "source": [
        "TEXT.build_vocab(dataset, min_freq=10, vectors=\"glove.twitter.27B.100d\")\n",
        "len(TEXT.vocab.itos)"
      ],
      "execution_count": 9,
      "outputs": [
        {
          "output_type": "stream",
          "text": [
            ".vector_cache/glove.twitter.27B.zip: 1.52GB [04:13, 6.00MB/s]                            \n",
            "100%|█████████▉| 1193148/1193514 [02:51<00:00, 10116.32it/s]"
          ],
          "name": "stderr"
        },
        {
          "output_type": "execute_result",
          "data": {
            "text/plain": [
              "37965"
            ]
          },
          "metadata": {
            "tags": []
          },
          "execution_count": 9
        }
      ]
    },
    {
      "metadata": {
        "id": "QBodqCfSL-Ec",
        "colab_type": "code",
        "colab": {}
      },
      "cell_type": "code",
      "source": [
        "LABEL.build_vocab(dataset)"
      ],
      "execution_count": 0,
      "outputs": []
    },
    {
      "metadata": {
        "id": "NDWZ7_8DL-Ee",
        "colab_type": "code",
        "colab": {}
      },
      "cell_type": "code",
      "source": [
        "train_ds = []\n",
        "test_ds = []\n",
        "\n",
        "for el in dataset:\n",
        "    if el.type[0] == \"train\":\n",
        "        train_ds.append(el)\n",
        "    else:\n",
        "        test_ds.append(el)"
      ],
      "execution_count": 0,
      "outputs": []
    },
    {
      "metadata": {
        "id": "Jl-LapooL-E6",
        "colab_type": "code",
        "colab": {}
      },
      "cell_type": "code",
      "source": [
        "train, test = Dataset(train_ds, fields=[(None, None),('review', TEXT),('label', LABEL)]), Dataset(test_ds, fields=[(None, None),('review', TEXT),('label', LABEL)])\n",
        "train, valid = train.split(0.7, stratified=True)"
      ],
      "execution_count": 0,
      "outputs": []
    },
    {
      "metadata": {
        "id": "fIBNaXijoXVK",
        "colab_type": "code",
        "colab": {}
      },
      "cell_type": "code",
      "source": [
        "device = tt.device('cuda')"
      ],
      "execution_count": 0,
      "outputs": []
    },
    {
      "metadata": {
        "id": "UECbpZ3QL-E_",
        "colab_type": "code",
        "colab": {}
      },
      "cell_type": "code",
      "source": [
        "class MyModel(nn.Module):\n",
        "    \n",
        "    def __init__(self, vectors, vocab_size, embed_size, hidden_size, kernels, mode):\n",
        "        super(MyModel, self).__init__()\n",
        "        if mode == 'frozen_weights':\n",
        "            self.embedding = nn.Embedding.from_pretrained(vectors, freeze=True)\n",
        "        elif mode == 'pretrained_weights':\n",
        "            self.embedding = nn.Embedding.from_pretrained(vectors, freeze=False)\n",
        "        elif mode == 'random_weights':\n",
        "            self.embedding = nn.Embedding.from_pretrained(nn.init.uniform_(tt.empty(vocab_size, embed_size)), freeze=False)\n",
        "        \n",
        "        self.convs = nn.ModuleList([nn.Conv1d(embed_size, hidden_size, k, padding=5) for k in kernels])\n",
        "        \n",
        "        self.fc = nn.Linear(hidden_size * len(kernels), 3)\n",
        "        \n",
        "    def forward(self, x):\n",
        "        \n",
        "        x = self.embedding(x)\n",
        "        x = x.transpose(1,2)\n",
        "        \n",
        "        concatenated = []\n",
        "        for conv in self.convs:\n",
        "            z = conv(x)\n",
        "            z = F.avg_pool1d(z, kernel_size=z.size(2))\n",
        "            z = z.squeeze(2)\n",
        "            concatenated.append(z)\n",
        "            \n",
        "        x = tt.cat(concatenated, 1)\n",
        "        x = self.fc(x)\n",
        "        return x"
      ],
      "execution_count": 0,
      "outputs": []
    },
    {
      "metadata": {
        "id": "EmdOIsqgL-FB",
        "colab_type": "code",
        "colab": {}
      },
      "cell_type": "code",
      "source": [
        "def train_nn(model, train_iter, val_iter, n_batches, optimizer, criterion, n_epochs=20, \n",
        "             early_stopping=4\n",
        "            ):\n",
        "    sw = None\n",
        "        \n",
        "    early_stopping_epochs = 0\n",
        "    prev_loss = 100500\n",
        "    history = []\n",
        "    \n",
        "    scheduler = optim.lr_scheduler.ReduceLROnPlateau(optimizer, patience=2, verbose=True)\n",
        "    \n",
        "    for epoch in range(n_epochs):\n",
        "        \n",
        "        model.train()\n",
        "        train_loss = []\n",
        "        \n",
        "            \n",
        "        for batch in train_iter:\n",
        "            b_rev = batch.review[0].to(device)\n",
        "            optimizer.zero_grad()\n",
        "            b_lab = batch.label.to(device)\n",
        "            prediction = model.forward(b_rev)\n",
        "            \n",
        "            loss = criterion(prediction, b_lab)\n",
        "            \n",
        "            loss.backward()\n",
        "            optimizer.step()\n",
        "            \n",
        "            train_loss.append(loss.data.detach().item())\n",
        "        \n",
        "        #print(train_loss)\n",
        "        train_loss = np.mean(train_loss)\n",
        "                \n",
        "                \n",
        "        # validation on epoch\n",
        "        model.eval()\n",
        "        val_loss = []\n",
        "\n",
        "        with tt.no_grad():\n",
        "            for batch in val_iter:\n",
        "                b_rev = batch.review[0].to(device)\n",
        "                b_lab = batch.label.to(device)\n",
        "                prediction = model.forward(b_rev)\n",
        "                loss = criterion(prediction, b_lab)\n",
        "                loss = loss.data.detach().item()\n",
        "                val_loss.append( loss )\n",
        "\n",
        "        val_loss = np.mean(val_loss)\n",
        "\n",
        "        print('validation loss=%.4f' % val_loss)\n",
        "\n",
        "        if sw:\n",
        "            sw.add_scalar('Validation/Loss', val_loss, epoch)\n",
        "        \n",
        "        scheduler.step(val_loss)\n",
        "\n",
        "        history.append({\n",
        "            'epoch': epoch,\n",
        "            'train_loss': train_loss,\n",
        "            'val_loss': val_loss,\n",
        "            'learning_rate': optimizer.param_groups[0]['lr']\n",
        "        })\n",
        "\n",
        "        if early_stopping > 0:\n",
        "            if val_loss > prev_loss:\n",
        "                early_stopping_epochs = 1\n",
        "            else:\n",
        "                early_stopping_epochs = 0\n",
        "\n",
        "            if early_stopping_epochs >= early_stopping:\n",
        "                if verbose:\n",
        "                    print('Early stopping, best val_loss=%.4f' % prev_loss)\n",
        "                break\n",
        "\n",
        "            prev_loss = min(prev_loss, val_loss)\n",
        "\n",
        "    return pd.DataFrame(history)"
      ],
      "execution_count": 0,
      "outputs": []
    },
    {
      "metadata": {
        "id": "iapRaNvPL-FI",
        "colab_type": "text"
      },
      "cell_type": "markdown",
      "source": [
        "Using pretrained word embeddings with frozen weights. torch.nn.Embedding.from_pretrained(embed_matrix, frozen=True). "
      ]
    },
    {
      "metadata": {
        "id": "u0_MYqtYL-FJ",
        "colab_type": "code",
        "colab": {}
      },
      "cell_type": "code",
      "source": [
        "tt.cuda.empty_cache()\n",
        "\n",
        "batch_size = 32\n",
        "\n",
        "model = MyModel(vectors=TEXT.vocab.vectors,\n",
        "                vocab_size=len(TEXT.vocab.itos),\n",
        "                embed_size=100,\n",
        "                hidden_size=128,\n",
        "                kernels=[2,3,4,5],\n",
        "                mode='frozen_weights'\n",
        "               )\n",
        "model.to(device)\n",
        "train_iterator, valid_iterator, test_iterator = BucketIterator.splits(\n",
        "    (train, valid, test),\n",
        "    batch_sizes=(batch_size, batch_size, batch_size),\n",
        "    shuffle=True,\n",
        "    sort_key=lambda x: len(x.review),\n",
        "#     sort_within_batch=True,\n",
        ")\n",
        "\n",
        "optimizer = optim.Adam(model.parameters())\n",
        "scheduler = optim.lr_scheduler.ReduceLROnPlateau(optimizer, patience=5, verbose=True, cooldown=5)\n",
        "criterion = nn.CrossEntropyLoss()"
      ],
      "execution_count": 0,
      "outputs": []
    },
    {
      "metadata": {
        "id": "nFMqVkZRL-FK",
        "colab_type": "code",
        "colab": {}
      },
      "cell_type": "code",
      "source": [
        "n_batches = int(np.ceil(len(train_iterator.dataset) / batch_size))"
      ],
      "execution_count": 0,
      "outputs": []
    },
    {
      "metadata": {
        "id": "vHtlSqmaL-FL",
        "colab_type": "code",
        "colab": {
          "base_uri": "https://localhost:8080/",
          "height": 221
        },
        "outputId": "3fb6ba6d-c38d-4208-e2a5-f029b854715e"
      },
      "cell_type": "code",
      "source": [
        "frozen_res = train_nn(model, train_iterator, valid_iterator, n_batches, optimizer, criterion, \n",
        "         n_epochs=10\n",
        "        )"
      ],
      "execution_count": 28,
      "outputs": [
        {
          "output_type": "stream",
          "text": [
            "validation loss=1.0202\n",
            "validation loss=1.0124\n",
            "validation loss=1.0242\n",
            "validation loss=1.0301\n",
            "validation loss=1.0197\n",
            "Epoch     4: reducing learning rate of group 0 to 1.0000e-05.\n",
            "validation loss=1.0089\n",
            "validation loss=1.0180\n",
            "validation loss=1.0118\n",
            "validation loss=1.0191\n",
            "Epoch     8: reducing learning rate of group 0 to 1.0000e-06.\n",
            "validation loss=1.0177\n"
          ],
          "name": "stdout"
        }
      ]
    },
    {
      "metadata": {
        "id": "ASyjJj77HQQN",
        "colab_type": "code",
        "colab": {}
      },
      "cell_type": "code",
      "source": [
        "test_loss = []\n",
        "\n",
        "with tt.no_grad():\n",
        "    for batch in test_iterator:\n",
        "        b_rev = batch.review[0].to(device)\n",
        "        b_lab = batch.label.to(device)\n",
        "        prediction = model.forward(b_rev)\n",
        "        loss = criterion(prediction, b_lab)\n",
        "        loss = loss.data.detach().item()\n",
        "        test_loss.append( loss )\n",
        "\n",
        "frozen_loss = np.mean(test_loss)"
      ],
      "execution_count": 0,
      "outputs": []
    },
    {
      "metadata": {
        "id": "pHRMTg0DdV8h",
        "colab_type": "code",
        "colab": {}
      },
      "cell_type": "code",
      "source": [
        "tt.cuda.empty_cache()\n",
        "\n",
        "model = MyModel(vectors=TEXT.vocab.vectors,\n",
        "                vocab_size=len(TEXT.vocab.itos),\n",
        "                embed_size=100,\n",
        "                hidden_size=128,\n",
        "                kernels=[2,3,4,5],\n",
        "                mode='pretrained_weights'\n",
        "               )\n",
        "model.to(device)\n",
        "\n",
        "optimizer = optim.Adam(model.parameters())\n",
        "scheduler = optim.lr_scheduler.ReduceLROnPlateau(optimizer, patience=5, verbose=True, cooldown=5)"
      ],
      "execution_count": 0,
      "outputs": []
    },
    {
      "metadata": {
        "id": "dRFjIVu7L-FN",
        "colab_type": "code",
        "outputId": "b31b2db3-c0cd-46a8-8b5a-7c5b43770bbe",
        "colab": {
          "base_uri": "https://localhost:8080/",
          "height": 238
        }
      },
      "cell_type": "code",
      "source": [
        "not_frozen_res = train_nn(model, train_iterator, valid_iterator, n_batches, optimizer, criterion, \n",
        "         n_epochs=10\n",
        "        )"
      ],
      "execution_count": 32,
      "outputs": [
        {
          "output_type": "stream",
          "text": [
            "validation loss=0.9302\n",
            "validation loss=1.1532\n",
            "validation loss=1.6466\n",
            "validation loss=2.0704\n",
            "Epoch     3: reducing learning rate of group 0 to 1.0000e-04.\n",
            "validation loss=2.8245\n",
            "validation loss=3.1929\n",
            "validation loss=3.4295\n",
            "Epoch     6: reducing learning rate of group 0 to 1.0000e-05.\n",
            "validation loss=3.4679\n",
            "validation loss=3.5089\n",
            "validation loss=3.5468\n",
            "Epoch     9: reducing learning rate of group 0 to 1.0000e-06.\n"
          ],
          "name": "stdout"
        }
      ]
    },
    {
      "metadata": {
        "id": "CtM2ipSuH-1w",
        "colab_type": "code",
        "colab": {}
      },
      "cell_type": "code",
      "source": [
        "test_loss = []\n",
        "\n",
        "with tt.no_grad():\n",
        "    for batch in test_iterator:\n",
        "        b_rev = batch.review[0].to(device)\n",
        "        b_lab = batch.label.to(device)\n",
        "        prediction = model.forward(b_rev)\n",
        "        loss = criterion(prediction, b_lab)\n",
        "        loss = loss.data.detach().item()\n",
        "        test_loss.append( loss )\n",
        "\n",
        "not_frozen_loss = np.mean(test_loss)"
      ],
      "execution_count": 0,
      "outputs": []
    },
    {
      "metadata": {
        "id": "XpGTf0gCq8U6",
        "colab_type": "code",
        "colab": {}
      },
      "cell_type": "code",
      "source": [
        "tt.cuda.empty_cache()\n",
        "\n",
        "model = MyModel(vectors=TEXT.vocab.vectors,\n",
        "                vocab_size=len(TEXT.vocab.itos),\n",
        "                embed_size=100,\n",
        "                hidden_size=128,\n",
        "                kernels=[2,3,4,5],\n",
        "                mode='random_weights'\n",
        "               )\n",
        "model.to(device)\n",
        "\n",
        "optimizer = optim.Adam(model.parameters())\n",
        "scheduler = optim.lr_scheduler.ReduceLROnPlateau(optimizer, patience=5, verbose=True, cooldown=5)"
      ],
      "execution_count": 0,
      "outputs": []
    },
    {
      "metadata": {
        "id": "X6eQgfJGttji",
        "colab_type": "code",
        "outputId": "9f8ec4a3-b270-4755-d2a6-2892ec67bd63",
        "colab": {
          "base_uri": "https://localhost:8080/",
          "height": 238
        }
      },
      "cell_type": "code",
      "source": [
        "random_res = train_nn(model, train_iterator, valid_iterator, n_batches, optimizer, criterion, \n",
        "         n_epochs=10\n",
        "        )"
      ],
      "execution_count": 35,
      "outputs": [
        {
          "output_type": "stream",
          "text": [
            "validation loss=0.8152\n",
            "validation loss=1.0319\n",
            "validation loss=1.1916\n",
            "validation loss=1.4980\n",
            "Epoch     3: reducing learning rate of group 0 to 1.0000e-04.\n",
            "validation loss=1.4962\n",
            "validation loss=1.5938\n",
            "validation loss=1.7511\n",
            "Epoch     6: reducing learning rate of group 0 to 1.0000e-05.\n",
            "validation loss=1.7206\n",
            "validation loss=1.7002\n",
            "validation loss=1.7420\n",
            "Epoch     9: reducing learning rate of group 0 to 1.0000e-06.\n"
          ],
          "name": "stdout"
        }
      ]
    },
    {
      "metadata": {
        "id": "WdEBWu2_IBSV",
        "colab_type": "code",
        "colab": {}
      },
      "cell_type": "code",
      "source": [
        "test_loss = []\n",
        "\n",
        "with tt.no_grad():\n",
        "    for batch in test_iterator:\n",
        "        b_rev = batch.review[0].to(device)\n",
        "        b_lab = batch.label.to(device)\n",
        "        prediction = model.forward(b_rev)\n",
        "        loss = criterion(prediction, b_lab)\n",
        "        loss = loss.data.detach().item()\n",
        "        test_loss.append( loss )\n",
        "\n",
        "random_loss = np.mean(test_loss)"
      ],
      "execution_count": 0,
      "outputs": []
    },
    {
      "metadata": {
        "id": "3lMolt-gWhlx",
        "colab_type": "text"
      },
      "cell_type": "markdown",
      "source": [
        "\n",
        "### current learning rate against number of epochs\n",
        "(random совпадает с not_frozen, поэтому одна толще, другая тоньше, чтобы можно было увидеть обе)\n"
      ]
    },
    {
      "metadata": {
        "id": "k1GRCfRlxpKD",
        "colab_type": "code",
        "colab": {
          "base_uri": "https://localhost:8080/",
          "height": 380
        },
        "outputId": "02c7404f-4293-47d0-8db1-ef6caf93c8cc"
      },
      "cell_type": "code",
      "source": [
        "import matplotlib.pyplot as plt\n",
        "plt.style.use('ggplot')\n",
        "\n",
        "plt.plot(range(0, len(not_frozen_res)), not_frozen_res.learning_rate, label='not_frozen', linewidth=4)\n",
        "plt.plot(range(0, len(frozen_res)), frozen_res.learning_rate, label='frozen', linewidth=3)\n",
        "plt.plot(range(0, len(random_res)), random_res.learning_rate, label='random', linewidth=2)\n",
        "plt.legend()\n",
        "plt.xlabel('epoch')\n",
        "plt.ylabel('learning rate')"
      ],
      "execution_count": 50,
      "outputs": [
        {
          "output_type": "execute_result",
          "data": {
            "text/plain": [
              "Text(0, 0.5, 'learning rate')"
            ]
          },
          "metadata": {
            "tags": []
          },
          "execution_count": 50
        },
        {
          "output_type": "display_data",
          "data": {
            "image/png": "[encoded data removed]",
            "text/plain": [
              "<Figure size 576x396 with 1 Axes>"
            ]
          },
          "metadata": {
            "tags": []
          }
        }
      ]
    },
    {
      "metadata": {
        "id": "5i_zAoEOXHbY",
        "colab_type": "text"
      },
      "cell_type": "markdown",
      "source": [
        "### Validation curve"
      ]
    },
    {
      "metadata": {
        "id": "0WB-v_8lFwMT",
        "colab_type": "code",
        "colab": {
          "base_uri": "https://localhost:8080/",
          "height": 380
        },
        "outputId": "988402d3-f72b-4baf-df08-d2bfdb0a17e4"
      },
      "cell_type": "code",
      "source": [
        "plt.plot([0, 1, 2], [frozen_loss, not_frozen_loss, random_loss])\n",
        "plt.xticks([0, 1, 2], ['frozen', 'not frozen', 'random'])\n",
        "plt.xlabel('mode')\n",
        "plt.ylabel('cross-entropy loss')"
      ],
      "execution_count": 57,
      "outputs": [
        {
          "output_type": "execute_result",
          "data": {
            "text/plain": [
              "Text(0, 0.5, 'cross-entropy loss')"
            ]
          },
          "metadata": {
            "tags": []
          },
          "execution_count": 57
        },
        {
          "output_type": "display_data",
          "data": {
            "image/png": "[encoded data removed]",
            "text/plain": [
              "<Figure size 576x396 with 1 Axes>"
            ]
          },
          "metadata": {
            "tags": []
          }
        }
      ]
    },
    {
      "metadata": {
        "id": "u3wRVlLuIfv5",
        "colab_type": "code",
        "colab": {}
      },
      "cell_type": "code",
      "source": [
        ""
      ],
      "execution_count": 0,
      "outputs": []
    }
  ]
}